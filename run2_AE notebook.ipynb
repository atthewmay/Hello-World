{
 "cells": [
  {
   "cell_type": "code",
   "execution_count": 3,
   "metadata": {
    "collapsed": false
   },
   "outputs": [
    {
     "name": "stdout",
     "output_type": "stream",
     "text": [
      "The avg of hidden layer activations is 0.50189497029\n",
      "Epoch 0 training complete\n",
      "The avg of hidden layer activations is 0.464580226798\n",
      "Epoch 1 training complete\n",
      "The avg of hidden layer activations is 0.452146954767\n",
      "Epoch 2 training complete\n",
      "The avg of hidden layer activations is 0.448898205696\n",
      "Epoch 3 training complete\n",
      "The avg of hidden layer activations is 0.443718044847\n",
      "Epoch 4 training complete\n",
      "The avg of hidden layer activations is 0.44330053152\n",
      "Epoch 5 training complete\n",
      "The avg of hidden layer activations is 0.443271843174\n",
      "Epoch 6 training complete\n",
      "The avg of hidden layer activations is 0.442387406002\n",
      "Epoch 7 training complete\n",
      "The avg of hidden layer activations is 0.442312730284\n",
      "Epoch 8 training complete\n",
      "The avg of hidden layer activations is 0.440926186812\n",
      "Epoch 9 training complete\n",
      "The avg of hidden layer activations is 0.442223928891\n",
      "Epoch 10 training complete\n",
      "The avg of hidden layer activations is 0.442272146802\n",
      "Epoch 11 training complete\n",
      "The avg of hidden layer activations is 0.442291720816\n",
      "Epoch 12 training complete\n",
      "The avg of hidden layer activations is 0.441981161711\n",
      "Epoch 13 training complete\n",
      "The avg of hidden layer activations is 0.442043350835\n",
      "Epoch 14 training complete\n",
      "The avg of hidden layer activations is 0.44209943358\n",
      "Epoch 15 training complete\n",
      "The avg of hidden layer activations is 0.442141889053\n",
      "Epoch 16 training complete\n",
      "The avg of hidden layer activations is 0.442133249114\n",
      "Epoch 17 training complete\n",
      "The avg of hidden layer activations is 0.440837820265\n",
      "Epoch 18 training complete\n",
      "The avg of hidden layer activations is 0.440843888536\n",
      "Epoch 19 training complete\n",
      "The avg of hidden layer activations is 0.442708436512\n",
      "Epoch 20 training complete\n",
      "The avg of hidden layer activations is 0.4427803762\n",
      "Epoch 21 training complete\n",
      "The avg of hidden layer activations is 0.442849825474\n",
      "Epoch 22 training complete\n",
      "The avg of hidden layer activations is 0.442915031327\n",
      "Epoch 23 training complete\n",
      "The avg of hidden layer activations is 0.442971562094\n",
      "Epoch 24 training complete\n",
      "The avg of hidden layer activations is 0.443002225575\n",
      "Epoch 25 training complete\n",
      "The avg of hidden layer activations is 0.442818173606\n",
      "Epoch 26 training complete\n",
      "The avg of hidden layer activations is 0.442887906048\n",
      "Epoch 27 training complete\n",
      "The avg of hidden layer activations is 0.442951253718\n",
      "Epoch 28 training complete\n",
      "The avg of hidden layer activations is 0.443032486147\n",
      "Epoch 29 training complete\n",
      "The avg of hidden layer activations is 0.442999573017\n",
      "Epoch 30 training complete\n",
      "The avg of hidden layer activations is 0.440958946082\n",
      "Epoch 31 training complete\n",
      "The avg of hidden layer activations is 0.441043166482\n",
      "Epoch 32 training complete\n",
      "The avg of hidden layer activations is 0.441125890233\n",
      "Epoch 33 training complete\n",
      "The avg of hidden layer activations is 0.441206238895\n",
      "Epoch 34 training complete\n",
      "The avg of hidden layer activations is 0.441282325181\n",
      "Epoch 35 training complete\n",
      "The avg of hidden layer activations is 0.441349047848\n",
      "Epoch 36 training complete\n",
      "The avg of hidden layer activations is 0.441384786955\n",
      "Epoch 37 training complete\n",
      "The avg of hidden layer activations is 0.441083803256\n",
      "Epoch 38 training complete\n",
      "The avg of hidden layer activations is 0.441174978232\n",
      "Epoch 39 training complete\n",
      "The avg of hidden layer activations is 0.441266003313\n",
      "Epoch 40 training complete\n",
      "The avg of hidden layer activations is 0.441356829534\n",
      "Epoch 41 training complete\n",
      "The avg of hidden layer activations is 0.441447395874\n",
      "Epoch 42 training complete\n",
      "The avg of hidden layer activations is 0.441537625402\n",
      "Epoch 43 training complete\n",
      "The avg of hidden layer activations is 0.441627418928\n",
      "Epoch 44 training complete\n",
      "The avg of hidden layer activations is 0.441716644554\n",
      "Epoch 45 training complete\n",
      "The avg of hidden layer activations is 0.441805119767\n",
      "Epoch 46 training complete\n",
      "The avg of hidden layer activations is 0.441892578788\n",
      "Epoch 47 training complete\n",
      "The avg of hidden layer activations is 0.441978607853\n",
      "Epoch 48 training complete\n",
      "The avg of hidden layer activations is 0.442062502108\n",
      "Epoch 49 training complete\n",
      "The avg of hidden layer activations is 0.442142897889\n",
      "Epoch 50 training complete\n",
      "The avg of hidden layer activations is 0.442216595992\n",
      "Epoch 51 training complete\n",
      "The avg of hidden layer activations is 0.442273179097\n",
      "Epoch 52 training complete\n",
      "The avg of hidden layer activations is 0.442244792383\n",
      "Epoch 53 training complete\n",
      "The avg of hidden layer activations is 0.443360862079\n",
      "Epoch 54 training complete\n",
      "The avg of hidden layer activations is 0.443450491531\n",
      "Epoch 55 training complete\n",
      "The avg of hidden layer activations is 0.4435400577\n",
      "Epoch 56 training complete\n",
      "The avg of hidden layer activations is 0.443629631511\n",
      "Epoch 57 training complete\n",
      "The avg of hidden layer activations is 0.443719070635\n",
      "Epoch 58 training complete\n",
      "The avg of hidden layer activations is 0.443807954798\n",
      "Epoch 59 training complete\n",
      "The avg of hidden layer activations is 0.443895743512\n",
      "Epoch 60 training complete\n",
      "The avg of hidden layer activations is 0.443982498542\n",
      "Epoch 61 training complete\n",
      "The avg of hidden layer activations is 0.444132904635\n",
      "Epoch 62 training complete\n",
      "The avg of hidden layer activations is 0.444222384906\n",
      "Epoch 63 training complete\n",
      "The avg of hidden layer activations is 0.444311191259\n",
      "Epoch 64 training complete\n",
      "The avg of hidden layer activations is 0.444399196816\n",
      "Epoch 65 training complete\n",
      "The avg of hidden layer activations is 0.444486246313\n",
      "Epoch 66 training complete\n",
      "The avg of hidden layer activations is 0.444572144612\n",
      "Epoch 67 training complete\n",
      "The avg of hidden layer activations is 0.444656640311\n",
      "Epoch 68 training complete\n",
      "The avg of hidden layer activations is 0.444739400278\n",
      "Epoch 69 training complete\n",
      "The avg of hidden layer activations is 0.444819967843\n",
      "Epoch 70 training complete\n",
      "The avg of hidden layer activations is 0.444897690033\n",
      "Epoch 71 training complete\n",
      "The avg of hidden layer activations is 0.444971581638\n",
      "Epoch 72 training complete\n",
      "The avg of hidden layer activations is 0.445040048039\n",
      "Epoch 73 training complete\n",
      "The avg of hidden layer activations is 0.445100255487\n",
      "Epoch 74 training complete\n",
      "The avg of hidden layer activations is 0.445146523549\n",
      "Epoch 75 training complete\n",
      "The avg of hidden layer activations is 0.445166328359\n",
      "Epoch 76 training complete\n",
      "The avg of hidden layer activations is 0.445140667249\n",
      "Epoch 77 training complete\n",
      "The avg of hidden layer activations is 0.443713346556\n",
      "Epoch 78 training complete\n",
      "The avg of hidden layer activations is 0.443575089146\n",
      "Epoch 79 training complete\n",
      "The avg of hidden layer activations is 0.444748024643\n",
      "Epoch 80 training complete\n",
      "The avg of hidden layer activations is 0.444811119695\n",
      "Epoch 81 training complete\n",
      "The avg of hidden layer activations is 0.444883942808\n",
      "Epoch 82 training complete\n",
      "The avg of hidden layer activations is 0.44486577019\n",
      "Epoch 83 training complete\n",
      "The avg of hidden layer activations is 0.443306089777\n",
      "Epoch 84 training complete\n",
      "The avg of hidden layer activations is 0.443391681218\n",
      "Epoch 85 training complete\n",
      "The avg of hidden layer activations is 0.443467599297\n",
      "Epoch 86 training complete\n",
      "The avg of hidden layer activations is 0.443648939588\n",
      "Epoch 87 training complete\n",
      "The avg of hidden layer activations is 0.443744044942\n",
      "Epoch 88 training complete\n",
      "The avg of hidden layer activations is 0.443835344396\n",
      "Epoch 89 training complete\n",
      "The avg of hidden layer activations is 0.443920576823\n",
      "Epoch 90 training complete\n",
      "The avg of hidden layer activations is 0.443995597901\n",
      "Epoch 91 training complete\n",
      "The avg of hidden layer activations is 0.444097623468\n",
      "Epoch 92 training complete\n",
      "The avg of hidden layer activations is 0.443837172162\n",
      "Epoch 93 training complete\n",
      "The avg of hidden layer activations is 0.443912264999\n",
      "Epoch 94 training complete\n",
      "The avg of hidden layer activations is 0.443968883271\n",
      "Epoch 95 training complete\n",
      "The avg of hidden layer activations is 0.444089557577\n",
      "Epoch 96 training complete\n",
      "The avg of hidden layer activations is 0.443717772256\n",
      "Epoch 97 training complete\n",
      "The avg of hidden layer activations is 0.442767661164\n",
      "Epoch 98 training complete\n",
      "The avg of hidden layer activations is 0.44293449156\n",
      "Epoch 99 training complete\n",
      "The avg of hidden layer activations is 0.443017862543\n",
      "Epoch 100 training complete\n",
      "The avg of hidden layer activations is 0.443077950768\n",
      "Epoch 101 training complete\n",
      "The avg of hidden layer activations is 0.443041882226\n",
      "Epoch 102 training complete\n",
      "The avg of hidden layer activations is 0.439584467134\n",
      "Epoch 103 training complete\n",
      "The avg of hidden layer activations is 0.440008339672\n",
      "Epoch 104 training complete\n",
      "The avg of hidden layer activations is 0.440130358753\n",
      "Epoch 105 training complete\n",
      "The avg of hidden layer activations is 0.44025156601\n",
      "Epoch 106 training complete\n",
      "The avg of hidden layer activations is 0.440371762499\n",
      "Epoch 107 training complete\n",
      "The avg of hidden layer activations is 0.440490697575\n",
      "Epoch 108 training complete\n",
      "The avg of hidden layer activations is 0.440608007842\n",
      "Epoch 109 training complete\n",
      "The avg of hidden layer activations is 0.440723119048\n",
      "Epoch 110 training complete\n",
      "The avg of hidden layer activations is 0.440834996231\n",
      "Epoch 111 training complete\n",
      "The avg of hidden layer activations is 0.440941323237\n",
      "Epoch 112 training complete\n",
      "The avg of hidden layer activations is 0.441035310314\n",
      "Epoch 113 training complete\n",
      "The avg of hidden layer activations is 0.441202261176\n",
      "Epoch 114 training complete\n",
      "The avg of hidden layer activations is 0.44130309917\n",
      "Epoch 115 training complete\n",
      "The avg of hidden layer activations is 0.441392963992\n",
      "Epoch 116 training complete\n",
      "The avg of hidden layer activations is 0.44145676438\n",
      "Epoch 117 training complete\n",
      "The avg of hidden layer activations is 0.44138787873\n",
      "Epoch 118 training complete\n",
      "The avg of hidden layer activations is 0.440832314438\n",
      "Epoch 119 training complete\n",
      "The avg of hidden layer activations is 0.440758987634\n",
      "Epoch 120 training complete\n",
      "The avg of hidden layer activations is 0.437914924125\n",
      "Epoch 121 training complete\n",
      "The avg of hidden layer activations is 0.438038892536\n",
      "Epoch 122 training complete\n",
      "The avg of hidden layer activations is 0.438159141905\n",
      "Epoch 123 training complete\n",
      "The avg of hidden layer activations is 0.438274631467\n",
      "Epoch 124 training complete\n",
      "The avg of hidden layer activations is 0.438382874993\n",
      "Epoch 125 training complete\n",
      "The avg of hidden layer activations is 0.438478711507\n",
      "Epoch 126 training complete\n",
      "The avg of hidden layer activations is 0.438548508716\n",
      "Epoch 127 training complete\n",
      "The avg of hidden layer activations is 0.438535568866\n",
      "Epoch 128 training complete\n",
      "The avg of hidden layer activations is 0.437627710484\n",
      "Epoch 129 training complete\n",
      "The avg of hidden layer activations is 0.43755087139\n",
      "Epoch 130 training complete\n",
      "The avg of hidden layer activations is 0.437671706198\n",
      "Epoch 131 training complete\n",
      "The avg of hidden layer activations is 0.437774417654\n",
      "Epoch 132 training complete\n",
      "The avg of hidden layer activations is 0.437791488514\n",
      "Epoch 133 training complete\n",
      "The avg of hidden layer activations is 0.434390309649\n",
      "Epoch 134 training complete\n",
      "The avg of hidden layer activations is 0.434531946727\n",
      "Epoch 135 training complete\n",
      "The avg of hidden layer activations is 0.434662285086\n",
      "Epoch 136 training complete\n",
      "The avg of hidden layer activations is 0.434758343739\n",
      "Epoch 137 training complete\n",
      "The avg of hidden layer activations is 0.434559521899\n",
      "Epoch 138 training complete\n",
      "The avg of hidden layer activations is 0.434715934008\n",
      "Epoch 139 training complete\n",
      "The avg of hidden layer activations is 0.434871349801\n",
      "Epoch 140 training complete\n",
      "The avg of hidden layer activations is 0.435025592884\n",
      "Epoch 141 training complete\n",
      "The avg of hidden layer activations is 0.435178360344\n",
      "Epoch 142 training complete\n",
      "The avg of hidden layer activations is 0.43532915579\n",
      "Epoch 143 training complete\n",
      "The avg of hidden layer activations is 0.435477035211\n",
      "Epoch 144 training complete\n",
      "The avg of hidden layer activations is 0.435619748253\n",
      "Epoch 145 training complete\n",
      "The avg of hidden layer activations is 0.435751004875\n",
      "Epoch 146 training complete\n",
      "The avg of hidden layer activations is 0.436743003664\n",
      "Epoch 147 training complete\n",
      "The avg of hidden layer activations is 0.436889328749\n",
      "Epoch 148 training complete\n",
      "The avg of hidden layer activations is 0.43703326798\n",
      "Epoch 149 training complete\n",
      "The avg of hidden layer activations is 0.437173827978\n",
      "Epoch 150 training complete\n",
      "The avg of hidden layer activations is 0.437309497423\n",
      "Epoch 151 training complete\n",
      "The avg of hidden layer activations is 0.437437183376\n",
      "Epoch 152 training complete\n",
      "The avg of hidden layer activations is 0.43754869654\n",
      "Epoch 153 training complete\n",
      "The avg of hidden layer activations is 0.437608866548\n",
      "Epoch 154 training complete\n",
      "The avg of hidden layer activations is 0.437080337538\n",
      "Epoch 155 training complete\n",
      "The avg of hidden layer activations is 0.437220955675\n",
      "Epoch 156 training complete\n",
      "The avg of hidden layer activations is 0.437356369847\n",
      "Epoch 157 training complete\n",
      "The avg of hidden layer activations is 0.437484224042\n",
      "Epoch 158 training complete\n",
      "The avg of hidden layer activations is 0.437599710613\n",
      "Epoch 159 training complete\n",
      "The avg of hidden layer activations is 0.437691024594\n",
      "Epoch 160 training complete\n",
      "The avg of hidden layer activations is 0.437715610328\n",
      "Epoch 161 training complete\n",
      "The avg of hidden layer activations is 0.437281537606\n",
      "Epoch 162 training complete\n",
      "The avg of hidden layer activations is 0.436340235938\n",
      "Epoch 163 training complete\n",
      "The avg of hidden layer activations is 0.436469295326\n",
      "Epoch 164 training complete\n",
      "The avg of hidden layer activations is 0.436570005577\n",
      "Epoch 165 training complete\n",
      "The avg of hidden layer activations is 0.436545366768\n",
      "Epoch 166 training complete\n",
      "The avg of hidden layer activations is 0.438497193086\n",
      "Epoch 167 training complete\n",
      "The avg of hidden layer activations is 0.438651895168\n",
      "Epoch 168 training complete\n",
      "The avg of hidden layer activations is 0.438805762756\n",
      "Epoch 169 training complete\n",
      "The avg of hidden layer activations is 0.438958365391\n",
      "Epoch 170 training complete\n",
      "The avg of hidden layer activations is 0.439109482746\n",
      "Epoch 171 training complete\n",
      "The avg of hidden layer activations is 0.43925881229\n",
      "Epoch 172 training complete\n",
      "The avg of hidden layer activations is 0.439405931326\n",
      "Epoch 173 training complete\n",
      "The avg of hidden layer activations is 0.439550202448\n",
      "Epoch 174 training complete\n",
      "The avg of hidden layer activations is 0.439690577313\n",
      "Epoch 175 training complete\n",
      "The avg of hidden layer activations is 0.439825118752\n",
      "Epoch 176 training complete\n",
      "The avg of hidden layer activations is 0.439949582627\n",
      "Epoch 177 training complete\n",
      "The avg of hidden layer activations is 0.440051690493\n",
      "Epoch 178 training complete\n",
      "The avg of hidden layer activations is 0.440069970994\n",
      "Epoch 179 training complete\n",
      "The avg of hidden layer activations is 0.438445638167\n",
      "Epoch 180 training complete\n",
      "The avg of hidden layer activations is 0.43859873987\n",
      "Epoch 181 training complete\n",
      "The avg of hidden layer activations is 0.438749742045\n",
      "Epoch 182 training complete\n",
      "The avg of hidden layer activations is 0.438898508683\n",
      "Epoch 183 training complete\n",
      "The avg of hidden layer activations is 0.439044629314\n",
      "Epoch 184 training complete\n",
      "The avg of hidden layer activations is 0.439187551982\n",
      "Epoch 185 training complete\n",
      "The avg of hidden layer activations is 0.43932645967\n",
      "Epoch 186 training complete\n",
      "The avg of hidden layer activations is 0.43946005126\n",
      "Epoch 187 training complete\n",
      "The avg of hidden layer activations is 0.43958601627\n",
      "Epoch 188 training complete\n",
      "The avg of hidden layer activations is 0.439699537284\n",
      "Epoch 189 training complete\n",
      "The avg of hidden layer activations is 0.439787620098\n",
      "Epoch 190 training complete\n",
      "The avg of hidden layer activations is 0.439793359482\n",
      "Epoch 191 training complete\n",
      "The avg of hidden layer activations is 0.438796673176\n",
      "Epoch 192 training complete\n",
      "The avg of hidden layer activations is 0.438934861833\n",
      "Epoch 193 training complete\n",
      "The avg of hidden layer activations is 0.439068340423\n",
      "Epoch 194 training complete\n",
      "The avg of hidden layer activations is 0.43919622175\n",
      "Epoch 195 training complete\n",
      "The avg of hidden layer activations is 0.439317186129\n",
      "Epoch 196 training complete\n",
      "The avg of hidden layer activations is 0.439429463384\n",
      "Epoch 197 training complete\n",
      "The avg of hidden layer activations is 0.43953084122\n",
      "Epoch 198 training complete\n",
      "The avg of hidden layer activations is 0.439619444317\n",
      "Epoch 199 training complete\n"
     ]
    },
    {
     "data": {
      "image/png": "[encoded data removed]",
      "text/plain": [
       "<matplotlib.figure.Figure at 0x1154b6d68>"
      ]
     },
     "metadata": {},
     "output_type": "display_data"
    }
   ],
   "source": [
    "import mnist_loader\n",
    "import matplotlib.pyplot as plt\n",
    "training_data, validation_data, test_data = mnist_loader.load_data_wrapper()\n",
    "\n",
    "# print(training_data)\n",
    "import network2_AE_1\n",
    "from data_expander import data_expander\n",
    "import numpy as np\n",
    "data_range = 100\n",
    "training_data = list(training_data)[:data_range]\n",
    "# print(np.shape(training_data))\n",
    "# # print(training_data[0][0].shape)  # This is how the data is structured: lists in lists. Each list contains the data and one-hot vector\n",
    "# training_data = data_expander(training_data,5)\n",
    "# print(np.shape(training_data))\n",
    "hidden_dim = 1000\n",
    "net = network2_AE_1.Network([784,hidden_dim,784], cost = network2_AE_1.QuadraticCost)\n",
    "results = net.SGD(training_data, 200, data_range, 0.1, lmbda = 5.0, evaluation_data=validation_data, monitor_training_cost = True, monitor_evaluation_accuracy=False, rho = 0.005, beta = 10)\n",
    "\n",
    "plt.figure()\n",
    "plt.plot(range(len(results[2])),results[2])\n",
    "plt.show()\n",
    "\n",
    "\n"
   ]
  },
  {
   "cell_type": "code",
   "execution_count": 8,
   "metadata": {
    "collapsed": false
   },
   "outputs": [
    {
     "name": "stdout",
     "output_type": "stream",
     "text": [
      "-1152.04383816\n",
      "-105348.441492\n"
     ]
    }
   ],
   "source": [
    "print(sum(sum(net.weights[0])))\n",
    "print(sum(sum(net.weights[1])))\n",
    "\n",
    "# Dang, the weights are just getting really small! "
   ]
  },
  {
   "cell_type": "code",
   "execution_count": 39,
   "metadata": {
    "collapsed": false
   },
   "outputs": [
    {
     "data": {
      "image/png": "[encoded data removed]",
      "text/plain": [
       "<matplotlib.figure.Figure at 0x114f424a8>"
      ]
     },
     "metadata": {},
     "output_type": "display_data"
    }
   ],
   "source": [
    "import matplotlib.pyplot as plt\n",
    "plt.imshow(training_data[0][0].reshape(28,28))\n",
    "plt.show()"
   ]
  },
  {
   "cell_type": "code",
   "execution_count": 40,
   "metadata": {
    "collapsed": false
   },
   "outputs": [],
   "source": [
    "output = net.feedforward(training_data[0][0])"
   ]
  },
  {
   "cell_type": "code",
   "execution_count": 41,
   "metadata": {
    "collapsed": false
   },
   "outputs": [
    {
     "data": {
      "image/png": "[encoded data removed]",
      "text/plain": [
       "<matplotlib.figure.Figure at 0x114f422b0>"
      ]
     },
     "metadata": {},
     "output_type": "display_data"
    }
   ],
   "source": [
    "plt.imshow(output.reshape(28,28))\n",
    "plt.show()"
   ]
  },
  {
   "cell_type": "code",
   "execution_count": 7,
   "metadata": {
    "collapsed": false
   },
   "outputs": [
    {
     "name": "stdout",
     "output_type": "stream",
     "text": [
      "[ 0.15179999]\n"
     ]
    }
   ],
   "source": [
    "print(max(net.weights[0].reshape(784000,1)))  # The max is very small."
   ]
  },
  {
   "cell_type": "code",
   "execution_count": 58,
   "metadata": {
    "collapsed": false
   },
   "outputs": [
    {
     "name": "stdout",
     "output_type": "stream",
     "text": [
      "0.0192839811749\n",
      "0.0192839811749\n"
     ]
    }
   ],
   "source": [
    "def KL(rho, rho_hat):\n",
    "    KL_divergence = sum(rho*np.log10(rho/rho_hat) + (1-rho)*np.log10((1-rho)/(1-rho_hat)))\n",
    "    return KL_divergence\n",
    "rho = np.array([1,2,3,2,1,2,3,4])/10\n",
    "rho_hat = np.array([1,2,3,1,1,2,3,4])/10\n",
    "\n",
    "print(sum(rho*np.log10(rho/rho_hat) + (1-rho)*np.log10((1-rho)/(1-rho_hat))))\n",
    "\n",
    "print(KL(rho, rho_hat))\n"
   ]
  },
  {
   "cell_type": "code",
   "execution_count": 5,
   "metadata": {
    "collapsed": false
   },
   "outputs": [
    {
     "data": {
      "image/png": "[encoded data removed]",
      "text/plain": [
       "<matplotlib.figure.Figure at 0x137f74668>"
      ]
     },
     "metadata": {},
     "output_type": "display_data"
    }
   ],
   "source": [
    "import matplotlib.pyplot as plt\n",
    "output = net.feedforward(training_data[4][0])\n",
    "plt.imshow(output.reshape(28,28))\n",
    "plt.show()\n",
    "\n",
    "# hmm, perhaps we are getting somewhere..."
   ]
  },
  {
   "cell_type": "code",
   "execution_count": 12,
   "metadata": {
    "collapsed": false
   },
   "outputs": [
    {
     "name": "stdout",
     "output_type": "stream",
     "text": [
      "The avg of hidden layer activations is 5.0566065725\n"
     ]
    },
    {
     "ename": "ValueError",
     "evalue": "operands could not be broadcast together with shapes (1000,100) (1000,) ",
     "output_type": "error",
     "traceback": [
      "\u001b[0;31m---------------------------------------------------------------------------\u001b[0m",
      "\u001b[0;31mValueError\u001b[0m                                Traceback (most recent call last)",
      "\u001b[0;32m<ipython-input-12-674de3285714>\u001b[0m in \u001b[0;36m<module>\u001b[0;34m()\u001b[0m\n\u001b[1;32m     15\u001b[0m \u001b[0mhidden_dim\u001b[0m \u001b[0;34m=\u001b[0m \u001b[0;36m1000\u001b[0m\u001b[0;34m\u001b[0m\u001b[0m\n\u001b[1;32m     16\u001b[0m \u001b[0mnet\u001b[0m \u001b[0;34m=\u001b[0m \u001b[0mnetwork2_AE_1\u001b[0m\u001b[0;34m.\u001b[0m\u001b[0mNetwork\u001b[0m\u001b[0;34m(\u001b[0m\u001b[0;34m[\u001b[0m\u001b[0;36m784\u001b[0m\u001b[0;34m,\u001b[0m\u001b[0mhidden_dim\u001b[0m\u001b[0;34m,\u001b[0m\u001b[0;36m784\u001b[0m\u001b[0;34m]\u001b[0m\u001b[0;34m,\u001b[0m \u001b[0mcost\u001b[0m \u001b[0;34m=\u001b[0m \u001b[0mnetwork2_AE_1\u001b[0m\u001b[0;34m.\u001b[0m\u001b[0mQuadraticCost\u001b[0m\u001b[0;34m)\u001b[0m\u001b[0;34m\u001b[0m\u001b[0m\n\u001b[0;32m---> 17\u001b[0;31m \u001b[0mresults\u001b[0m \u001b[0;34m=\u001b[0m \u001b[0mnet\u001b[0m\u001b[0;34m.\u001b[0m\u001b[0mSGD\u001b[0m\u001b[0;34m(\u001b[0m\u001b[0mtraining_data\u001b[0m\u001b[0;34m,\u001b[0m \u001b[0;36m20\u001b[0m\u001b[0;34m,\u001b[0m \u001b[0mdata_range\u001b[0m\u001b[0;34m,\u001b[0m \u001b[0;36m0.1\u001b[0m\u001b[0;34m,\u001b[0m \u001b[0mlmbda\u001b[0m \u001b[0;34m=\u001b[0m \u001b[0;36m5.0\u001b[0m\u001b[0;34m,\u001b[0m \u001b[0mevaluation_data\u001b[0m\u001b[0;34m=\u001b[0m\u001b[0mvalidation_data\u001b[0m\u001b[0;34m,\u001b[0m \u001b[0mmonitor_training_cost\u001b[0m \u001b[0;34m=\u001b[0m \u001b[0;32mTrue\u001b[0m\u001b[0;34m,\u001b[0m \u001b[0mmonitor_evaluation_accuracy\u001b[0m\u001b[0;34m=\u001b[0m\u001b[0;32mFalse\u001b[0m\u001b[0;34m,\u001b[0m \u001b[0mrho\u001b[0m \u001b[0;34m=\u001b[0m \u001b[0;36m0.005\u001b[0m\u001b[0;34m,\u001b[0m \u001b[0mbeta\u001b[0m \u001b[0;34m=\u001b[0m \u001b[0;36m10\u001b[0m\u001b[0;34m)\u001b[0m\u001b[0;34m\u001b[0m\u001b[0m\n\u001b[0m\u001b[1;32m     18\u001b[0m \u001b[0;34m\u001b[0m\u001b[0m\n\u001b[1;32m     19\u001b[0m \u001b[0mplt\u001b[0m\u001b[0;34m.\u001b[0m\u001b[0mfigure\u001b[0m\u001b[0;34m(\u001b[0m\u001b[0;34m)\u001b[0m\u001b[0;34m\u001b[0m\u001b[0m\n",
      "\u001b[0;32m/Users/matthewhunt/Desktop/python_work/neural-networks-and-deep-learning-master/3_src/network2_AE_1.py\u001b[0m in \u001b[0;36mSGD\u001b[0;34m(self, training_data, epochs, mini_batch_size, eta, lmbda, evaluation_data, monitor_evaluation_cost, monitor_evaluation_accuracy, monitor_training_cost, monitor_training_accuracy, early_stopping_n, early_stopping_custom, rho, beta)\u001b[0m\n\u001b[1;32m    187\u001b[0m                 self.update_mini_batch(\n\u001b[1;32m    188\u001b[0m                     mini_batch, eta, lmbda, len(training_data), rho, beta)\n\u001b[0;32m--> 189\u001b[0;31m \u001b[0;34m\u001b[0m\u001b[0m\n\u001b[0m\u001b[1;32m    190\u001b[0m             \u001b[0mprint\u001b[0m\u001b[0;34m(\u001b[0m\u001b[0;34m\"Epoch %s training complete\"\u001b[0m \u001b[0;34m%\u001b[0m \u001b[0mj\u001b[0m\u001b[0;34m)\u001b[0m\u001b[0;34m\u001b[0m\u001b[0m\n\u001b[1;32m    191\u001b[0m \u001b[0;34m\u001b[0m\u001b[0m\n",
      "\u001b[0;32m/Users/matthewhunt/Desktop/python_work/neural-networks-and-deep-learning-master/3_src/network2_AE_1.py\u001b[0m in \u001b[0;36mupdate_mini_batch\u001b[0;34m(self, mini_batch, eta, lmbda, n, rho, beta)\u001b[0m\n\u001b[1;32m    249\u001b[0m \u001b[0;34m\u001b[0m\u001b[0m\n\u001b[1;32m    250\u001b[0m         \u001b[0mnabla_b\u001b[0m\u001b[0;34m,\u001b[0m \u001b[0mnabla_w\u001b[0m \u001b[0;34m=\u001b[0m \u001b[0mself\u001b[0m\u001b[0;34m.\u001b[0m\u001b[0mbackprop\u001b[0m\u001b[0;34m(\u001b[0m\u001b[0mX\u001b[0m\u001b[0;34m,\u001b[0m \u001b[0mY\u001b[0m\u001b[0;34m,\u001b[0m \u001b[0mrho\u001b[0m\u001b[0;34m,\u001b[0m \u001b[0mbeta\u001b[0m\u001b[0;34m)\u001b[0m\u001b[0;34m\u001b[0m\u001b[0m\n\u001b[0;32m--> 251\u001b[0;31m \u001b[0;34m\u001b[0m\u001b[0m\n\u001b[0m\u001b[1;32m    252\u001b[0m \u001b[0;34m\u001b[0m\u001b[0m\n\u001b[1;32m    253\u001b[0m         \u001b[0;31m# for x, y in mini_batch:  # This does a single example per loop, rather than the \"full-minibatch\" type, which would be faster bc of matrix multiplication\u001b[0m\u001b[0;34m\u001b[0m\u001b[0;34m\u001b[0m\u001b[0m\n",
      "\u001b[0;32m/Users/matthewhunt/Desktop/python_work/neural-networks-and-deep-learning-master/3_src/network2_AE_1.py\u001b[0m in \u001b[0;36mbackprop\u001b[0;34m(self, x, y, rho, beta)\u001b[0m\n\u001b[1;32m    347\u001b[0m                 \u001b[0;31m# delta = (np.dot(self.weights[-l+1].transpose(), delta)+beta*(-(rho/rho_hat)+((1-rho)/(1-rho_hat)))) * sp # for starters, we don't include the B term to incorporate sparcity, tho we should later.\u001b[0m\u001b[0;34m\u001b[0m\u001b[0;34m\u001b[0m\u001b[0m\n\u001b[1;32m    348\u001b[0m                 \u001b[0mdelta\u001b[0m \u001b[0;34m=\u001b[0m \u001b[0mnp\u001b[0m\u001b[0;34m.\u001b[0m\u001b[0mdot\u001b[0m\u001b[0;34m(\u001b[0m\u001b[0mself\u001b[0m\u001b[0;34m.\u001b[0m\u001b[0mweights\u001b[0m\u001b[0;34m[\u001b[0m\u001b[0;34m-\u001b[0m\u001b[0ml\u001b[0m\u001b[0;34m+\u001b[0m\u001b[0;36m1\u001b[0m\u001b[0;34m]\u001b[0m\u001b[0;34m.\u001b[0m\u001b[0mtranspose\u001b[0m\u001b[0;34m(\u001b[0m\u001b[0;34m)\u001b[0m\u001b[0;34m,\u001b[0m \u001b[0mdelta\u001b[0m\u001b[0;34m)\u001b[0m\u001b[0;34m*\u001b[0m\u001b[0msp\u001b[0m\u001b[0;34m\u001b[0m\u001b[0m\n\u001b[0;32m--> 349\u001b[0;31m \u001b[0;34m\u001b[0m\u001b[0m\n\u001b[0m\u001b[1;32m    350\u001b[0m                 \u001b[0mnabla_b\u001b[0m\u001b[0;34m[\u001b[0m\u001b[0;34m-\u001b[0m\u001b[0ml\u001b[0m\u001b[0;34m]\u001b[0m \u001b[0;34m=\u001b[0m \u001b[0mnp\u001b[0m\u001b[0;34m.\u001b[0m\u001b[0mdot\u001b[0m\u001b[0;34m(\u001b[0m\u001b[0mdelta\u001b[0m\u001b[0;34m,\u001b[0m \u001b[0mnp\u001b[0m\u001b[0;34m.\u001b[0m\u001b[0mones\u001b[0m\u001b[0;34m(\u001b[0m\u001b[0;34m(\u001b[0m\u001b[0mdelta\u001b[0m\u001b[0;34m.\u001b[0m\u001b[0mshape\u001b[0m\u001b[0;34m[\u001b[0m\u001b[0;36m1\u001b[0m\u001b[0;34m]\u001b[0m\u001b[0;34m,\u001b[0m\u001b[0;36m1\u001b[0m\u001b[0;34m)\u001b[0m\u001b[0;34m)\u001b[0m\u001b[0;34m)\u001b[0m \u001b[0;31m#again, summing the deltas using the ones matrix.\u001b[0m\u001b[0;34m\u001b[0m\u001b[0m\n\u001b[1;32m    351\u001b[0m                 \u001b[0mnabla_w\u001b[0m\u001b[0;34m[\u001b[0m\u001b[0;34m-\u001b[0m\u001b[0ml\u001b[0m\u001b[0;34m]\u001b[0m \u001b[0;34m=\u001b[0m \u001b[0mnp\u001b[0m\u001b[0;34m.\u001b[0m\u001b[0mdot\u001b[0m\u001b[0;34m(\u001b[0m\u001b[0mdelta\u001b[0m\u001b[0;34m,\u001b[0m \u001b[0mnp\u001b[0m\u001b[0;34m.\u001b[0m\u001b[0marray\u001b[0m\u001b[0;34m(\u001b[0m\u001b[0mactivations\u001b[0m\u001b[0;34m[\u001b[0m\u001b[0;34m-\u001b[0m\u001b[0ml\u001b[0m\u001b[0;34m-\u001b[0m\u001b[0;36m1\u001b[0m\u001b[0;34m]\u001b[0m\u001b[0;34m)\u001b[0m\u001b[0;34m.\u001b[0m\u001b[0mtranspose\u001b[0m\u001b[0;34m(\u001b[0m\u001b[0;34m)\u001b[0m\u001b[0;34m)\u001b[0m \u001b[0;31m# The minus 1 works, because the range takes it to the second to last.\u001b[0m\u001b[0;34m\u001b[0m\u001b[0m\n",
      "\u001b[0;31mValueError\u001b[0m: operands could not be broadcast together with shapes (1000,100) (1000,) "
     ]
    }
   ],
   "source": []
  },
  {
   "cell_type": "code",
   "execution_count": 10,
   "metadata": {
    "collapsed": true
   },
   "outputs": [],
   "source": [
    "import mnist_loader\n",
    "training_data, validation_data, test_data = mnist_loader.load_data_wrapper()\n",
    "\n",
    "\n",
    "import numpy as np\n",
    "data_range = 100\n",
    "training_data = list(training_data)[:data_range]"
   ]
  },
  {
   "cell_type": "code",
   "execution_count": 29,
   "metadata": {
    "collapsed": false
   },
   "outputs": [
    {
     "name": "stdout",
     "output_type": "stream",
     "text": [
      "(100, 784, 1)\n",
      "(784, 100)\n"
     ]
    },
    {
     "data": {
      "image/png": "[encoded data removed]",
      "text/plain": [
       "<matplotlib.figure.Figure at 0x124fa7f60>"
      ]
     },
     "metadata": {},
     "output_type": "display_data"
    }
   ],
   "source": [
    "# print(training_data[0])\n",
    "import matplotlib.pyplot as plt\n",
    "\n",
    "unlabeled_data = np.array([data[0] for data in training_data])\n",
    "print(unlabeled_data.shape)\n",
    "X = unlabeled_data.T.reshape(784,-1) # each example stored in a column\n",
    "print(X.shape)\n",
    "\n",
    "plt.imshow(X.T[2].reshape(28,28))\n",
    "plt.show()"
   ]
  },
  {
   "cell_type": "code",
   "execution_count": 22,
   "metadata": {
    "collapsed": false
   },
   "outputs": [
    {
     "name": "stdout",
     "output_type": "stream",
     "text": [
      "(100, 784, 1)\n"
     ]
    }
   ],
   "source": [
    "data = []\n",
    "for x,y in training_data:\n",
    "    data.append(x)\n",
    "\n",
    "data = np.array(data) \n",
    "print(data.shape)"
   ]
  },
  {
   "cell_type": "code",
   "execution_count": null,
   "metadata": {
    "collapsed": true
   },
   "outputs": [],
   "source": []
  }
 ],
 "metadata": {
  "kernelspec": {
   "display_name": "Python 3",
   "language": "python",
   "name": "python3"
  },
  "language_info": {
   "codemirror_mode": {
    "name": "ipython",
    "version": 3
   },
   "file_extension": ".py",
   "mimetype": "text/x-python",
   "name": "python",
   "nbconvert_exporter": "python",
   "pygments_lexer": "ipython3",
   "version": "3.6.0"
  }
 },
 "nbformat": 4,
 "nbformat_minor": 2
}
