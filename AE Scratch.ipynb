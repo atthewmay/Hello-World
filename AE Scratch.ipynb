{
 "cells": [
  {
   "cell_type": "code",
   "execution_count": 114,
   "metadata": {
    "collapsed": false
   },
   "outputs": [],
   "source": [
    "import numpy as np\n",
    "# Note: all of this will be done with full-batch implementation. No regularization yet. No sparcity yet\n",
    "import mnist_loader\n",
    "\n",
    "import matplotlib.pyplot as plt\n",
    "training_data, validation_data, test_data = mnist_loader.load_data_wrapper()\n",
    "\n",
    "training_data = list(training_data)[:100]\n",
    "unlabeled_data = np.array([data[0] for data in training_data])\n",
    "data = unlabeled_data.T.reshape(784,-1) # each example stored in a column\n",
    "\n",
    "\n",
    "\n",
    "\n",
    "\n",
    "\n",
    "\n",
    "\n"
   ]
  },
  {
   "cell_type": "code",
   "execution_count": 178,
   "metadata": {
    "collapsed": false
   },
   "outputs": [],
   "source": [
    "def sigmoid(x):\n",
    "\treturn 1/(1+np.exp(-x))\n",
    "\n",
    "def sp(sigma):\n",
    "\treturn sigma*(1-sigma)\n",
    "\n",
    "\n",
    "def feedforward(x, w, b):  # Note: all of this will be done with full-batch implementation. No regularization yet. No sparcity yet\n",
    "    a_hidden = sigmoid(np.dot(w,x)+b[0])\n",
    "    a_out = sigmoid(np.dot(w.transpose(),a_hidden)+b[1])\n",
    "    return [a_hidden, a_out]\n",
    "# B's will work, I just need to be careful when I recreate images.\n",
    "\n",
    "def backprop(x, w, b):\n",
    "    a_hidden, a_out = feedforward(x,w,b)\n",
    "    d_out = (a_out-x)*sp(a_out) # Using quad-cost for now\n",
    "    d_hidden = np.dot(w,d_out)*sp(a_hidden)\n",
    "\n",
    "    #dW_jk = a_k_l-1 * d_j\n",
    "    dC_dw_T = np.dot(d_out, a_hidden.transpose())\n",
    "    dC_dw_input = np.dot(d_hidden, x.transpose())\n",
    "\n",
    "    dC_dw = dC_dw_input+dC_dw_T.transpose()\n",
    "    dC_db = [np.sum(d_hidden, axis = 1).reshape(b[0].shape), np.sum(d_out, axis = 1).reshape(b[1].shape)] # put these in cells of a matrix\n",
    "    return dC_dw, dC_db\n",
    "\n",
    "\n",
    "def backpropsparse(x,w,b,rho,beta):\n",
    "    a_hidden, a_out = feedforward(x,w,b)\n",
    "    rho_hat = np.sum(a_hidden, axis = 1)\n",
    "    KL_deriv = beta*(-(rho/rho_hat)+((1-rho)/(1-rho_hat)))\n",
    "    d_out = (a_out-x)*sp(a_out)\n",
    "    d_hidden = (np.dot(w,d_out)+KL_deriv)*sp(a_hidden)\n",
    "    \n",
    "    #dW_jk = a_k_l-1 * d_j\n",
    "    dC_dw_T = np.dot(d_out, a_hidden.transpose())\n",
    "    dC_dw_input = np.dot(d_hidden, x.transpose())\n",
    "\n",
    "    dC_dw = dC_dw_input+dC_dw_T.transpose()\n",
    "    dC_db = [np.sum(d_hidden, axis = 1).reshape(b[0].shape), np.sum(d_out, axis = 1).reshape(b[1].shape)] # put these in cells of a matrix\n",
    "    return dC_dw, dC_db, rho_hat\n",
    "\n",
    "def update_net(x,w,b,rho = 0, beta = 0, sparse = 0):\n",
    "    \n",
    "#         dC_dw, dC_db, rho_hat = backpropsparse(x, w, b,rho,beta)\n",
    "    dC_dw, dC_db = backprop(x, w, b)\n",
    "    # Using gradient descent\n",
    "    w = w - dC_dw\n",
    "    b[0] = b[0] - dC_db[0]\n",
    "    b[1] = b[1] - dC_db[1]\n",
    "    return w,b\n",
    "\n",
    "def eval_err(data,w,b):\n",
    "\tprediction = feedforward(data,w,b)\n",
    "\terror = sum(sum((prediction[1] - data)**2))\n",
    "\treturn error\n",
    "\n",
    "# use this guy if not including sparcity term\n",
    "def Grad_descent(data,w,b,iterations):\n",
    "    for i in range(iterations):\n",
    "        w,b = update_net(data,w,b)\n",
    "        \n",
    "        if i%499 == 0:\n",
    "            print(eval_err(data,w,b))\n",
    "    return w,b\n",
    "        \n",
    "def Grad_descent_sparse(data,w,b,iterations,sparse,rho = 0,beta = 0):\n",
    "    for i in range(iterations):\n",
    "        w,b,rho_hat = update_net(data,w,b,rho,beta,sparse)\n",
    "        \n",
    "        if i%499 == 0:\n",
    "            print(eval_err(data,w,b))    \n",
    "\n"
   ]
  },
  {
   "cell_type": "code",
   "execution_count": 169,
   "metadata": {
    "collapsed": false
   },
   "outputs": [
    {
     "name": "stderr",
     "output_type": "stream",
     "text": [
      "/Users/matthewhunt/anaconda/lib/python3.6/site-packages/ipykernel/__main__.py:2: RuntimeWarning: overflow encountered in exp\n",
      "  from ipykernel import kernelapp as app\n"
     ]
    },
    {
     "name": "stdout",
     "output_type": "stream",
     "text": [
      "7382.05887604\n",
      "4141.48726292\n",
      "3858.05640112\n"
     ]
    }
   ],
   "source": [
    "hidden_size = 99\n",
    "sizes = [784,hidden_size,784]\n",
    "b= [np.zeros((hidden_size,1)), np.zeros((784,1))]\n",
    "w = np.random.randn(sizes[1],sizes[0])/np.sqrt(sizes[0])\n",
    "rho = 0.05\n",
    "beta = 0\n",
    "# for i in range(1000):\n",
    "#     w,b = update_net(data,w,b,rho,beta)\n",
    "\n",
    "#     if i%499 == 0:\n",
    "#         print(eval_err(data,w,b))\n",
    "w,b = Grad_descent(data,w,b,1000)\n"
   ]
  },
  {
   "cell_type": "code",
   "execution_count": 176,
   "metadata": {
    "collapsed": false
   },
   "outputs": [
    {
     "name": "stdout",
     "output_type": "stream",
     "text": [
      "(784,)\n",
      "(784, 1)\n"
     ]
    },
    {
     "data": {
      "image/png": "[encoded data removed]",
      "text/plain": [
       "<matplotlib.figure.Figure at 0x112d45048>"
      ]
     },
     "metadata": {},
     "output_type": "display_data"
    }
   ],
   "source": [
    "import matplotlib.pyplot as plt\n",
    "\n",
    "output = feedforward(data.T[3].reshape(784,1),w,b) # Have to transpose becasue egs are in columns.\n",
    "print(data.T[0].shape)\n",
    "output = np.array(output[1])\n",
    "print(output.shape)\n",
    "\n",
    "plt.imshow(np.array(output).reshape(28,28))\n",
    "plt.show()"
   ]
  },
  {
   "cell_type": "code",
   "execution_count": 177,
   "metadata": {
    "collapsed": false
   },
   "outputs": [
    {
     "data": {
      "image/png": "[encoded data removed]",
      "text/plain": [
       "<matplotlib.figure.Figure at 0x10ed37ba8>"
      ]
     },
     "metadata": {},
     "output_type": "display_data"
    }
   ],
   "source": [
    "plt.imshow(np.array(data.T[3].reshape(28,28)))\n",
    "plt.show()"
   ]
  },
  {
   "cell_type": "code",
   "execution_count": 44,
   "metadata": {
    "collapsed": false
   },
   "outputs": [
    {
     "name": "stdout",
     "output_type": "stream",
     "text": [
      "(784,)\n",
      "(784,)\n"
     ]
    },
    {
     "data": {
      "image/png": "[encoded data removed]",
      "text/plain": [
       "<matplotlib.figure.Figure at 0x110df3a58>"
      ]
     },
     "metadata": {},
     "output_type": "display_data"
    }
   ],
   "source": [
    "import matplotlib.pyplot as plt\n",
    "output = feedforward(data.T[0],w,b) # Have to transpose becasue egs are in columns.\n",
    "print(data.T[0].shape)\n",
    "output = np.array(output[1])\n",
    "print(output.shape)\n",
    "plt.imshow(np.array(output).reshape(28,28))\n",
    "plt.show()"
   ]
  },
  {
   "cell_type": "code",
   "execution_count": 41,
   "metadata": {
    "collapsed": false
   },
   "outputs": [
    {
     "name": "stdout",
     "output_type": "stream",
     "text": [
      "(784,)\n",
      "(500,)\n"
     ]
    }
   ],
   "source": [
    "print(data.T[0].shape)\n",
    "output = feedforward(data.T[0],w,b)\n",
    "print(output[0].shape)"
   ]
  },
  {
   "cell_type": "code",
   "execution_count": 55,
   "metadata": {
    "collapsed": false
   },
   "outputs": [
    {
     "data": {
      "text/plain": [
       "array([-237.53420246,   76.71126651,  302.58931366,   39.83378334,\n",
       "        181.54851334])"
      ]
     },
     "execution_count": 55,
     "metadata": {},
     "output_type": "execute_result"
    }
   ],
   "source": [
    "np.dot(w,data.T[0])"
   ]
  },
  {
   "cell_type": "code",
   "execution_count": 81,
   "metadata": {
    "collapsed": false
   },
   "outputs": [
    {
     "name": "stdout",
     "output_type": "stream",
     "text": [
      "[[ -58.48785446]\n",
      " [ -35.05604177]\n",
      " [ -39.52049315]\n",
      " [   4.07225429]\n",
      " [-161.84055564]\n",
      " [ 265.70459322]\n",
      " [-124.67388718]\n",
      " [ 173.80361307]\n",
      " [-146.15797637]\n",
      " [ -29.42991111]\n",
      " [ -30.76326077]\n",
      " [-111.2819129 ]\n",
      " [ -38.95729487]\n",
      " [ -40.45521768]\n",
      " [ 334.99732292]]\n"
     ]
    }
   ],
   "source": [
    "print((np.dot(w,data.T[0].reshape(784,1))+b[0]))"
   ]
  },
  {
   "cell_type": "code",
   "execution_count": 83,
   "metadata": {
    "collapsed": false
   },
   "outputs": [
    {
     "name": "stdout",
     "output_type": "stream",
     "text": [
      "(784,)\n"
     ]
    }
   ],
   "source": [
    "print(w[0].shape)"
   ]
  },
  {
   "cell_type": "code",
   "execution_count": 85,
   "metadata": {
    "collapsed": false
   },
   "outputs": [
    {
     "data": {
      "image/png": "[encoded data removed]",
      "text/plain": [
       "<matplotlib.figure.Figure at 0x10eae0940>"
      ]
     },
     "metadata": {},
     "output_type": "display_data"
    }
   ],
   "source": [
    "feature = w[4].reshape(28,28)\n",
    "plt.imshow(feature)\n",
    "plt.show()"
   ]
  },
  {
   "cell_type": "code",
   "execution_count": null,
   "metadata": {
    "collapsed": true
   },
   "outputs": [],
   "source": []
  }
 ],
 "metadata": {
  "kernelspec": {
   "display_name": "Python 3",
   "language": "python",
   "name": "python3"
  },
  "language_info": {
   "codemirror_mode": {
    "name": "ipython",
    "version": 3
   },
   "file_extension": ".py",
   "mimetype": "text/x-python",
   "name": "python",
   "nbconvert_exporter": "python",
   "pygments_lexer": "ipython3",
   "version": "3.6.0"
  }
 },
 "nbformat": 4,
 "nbformat_minor": 2
}
